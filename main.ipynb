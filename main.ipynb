{
 "cells": [
  {
   "cell_type": "code",
   "execution_count": 1,
   "metadata": {},
   "outputs": [],
   "source": [
    "# selenium 4\n",
    "from selenium import webdriver\n",
    "from selenium.webdriver.support.ui import WebDriverWait\n",
    "from selenium.webdriver.firefox.service import Service as FirefoxService\n",
    "from webdriver_manager.firefox import GeckoDriverManager\n",
    "from selenium.webdriver.support import expected_conditions as EC\n",
    "from selenium.webdriver.firefox.options import Options\n",
    "from selenium.webdriver import Firefox\n"
   ]
  },
  {
   "cell_type": "code",
   "execution_count": 2,
   "metadata": {},
   "outputs": [],
   "source": [
    "options = Options()\n",
    "options.add_argument(\"--headless\")\n",
    "driver = webdriver.Firefox(service=FirefoxService(GeckoDriverManager().install()),options=options)\n"
   ]
  },
  {
   "cell_type": "code",
   "execution_count": 3,
   "metadata": {},
   "outputs": [],
   "source": [
    "driver.get(\"https://www.dlsite.com/home/work/=/product_id/RJ260395.html\")\n",
    "wait = WebDriverWait(driver, 10)\n",
    "element_locator = (\"xpath\", '/html/body/div[3]/div/ul/li[2]/a')\n",
    "element = wait.until(EC.visibility_of_element_located(element_locator))\n",
    "element.click()"
   ]
  },
  {
   "cell_type": "code",
   "execution_count": 4,
   "metadata": {},
   "outputs": [
    {
     "name": "stdout",
     "output_type": "stream",
     "text": [
      "Release date Sep/21/2019\n",
      "Author かふしー\n",
      "Scenario かふしー\n",
      "Illustration 杉崎\n",
      "Voice Actor 三神香弥\n",
      "Age\n",
      "All Ages\n",
      "Product format\n",
      "Voice / ASMR\n",
      "File format\n",
      "MP3\n",
      "Supported languages\n",
      "Japanese\n",
      "Event Comic Market 96\n",
      "Genre\n",
      "Trance / Suggestion Voice Oneesan / Older Girl / Older Sister Yuri / Girls Love\n",
      "File size\n",
      "31.18MB\n"
     ]
    }
   ],
   "source": [
    "table = driver.find_element(\"id\",\"work_outline\")\n",
    "print(table.text)"
   ]
  },
  {
   "cell_type": "code",
   "execution_count": 5,
   "metadata": {},
   "outputs": [],
   "source": [
    "colpath = \"/html/body/div[3]/div[4]/div[1]/div/div[1]/div[2]/div[2]/table/tbody/tr[1]/th\"\n",
    "rowpath = \"/html/body/div[3]/div[4]/div[1]/div/div[1]/div[2]/div[2]/table/tbody/tr[1]\"\n",
    "cols = 1+len(driver.find_elements(\"xpath\",colpath))\n",
    "\n",
    "rows = len(driver.find_elements(\"xpath\",rowpath))"
   ]
  },
  {
   "cell_type": "code",
   "execution_count": 6,
   "metadata": {},
   "outputs": [
    {
     "name": "stdout",
     "output_type": "stream",
     "text": [
      "['Release date: Sep/21/2019   ', 'Author: かふしー   ', 'Scenario: かふしー   ', 'Illustration: 杉崎   ', 'Voice Actor: 三神香弥   ', 'Age: All Ages   ', 'Product format: Voice / ASMR   ', 'File format: MP3   ', 'Supported languages: Japanese   ', 'Event: Comic Market 96   ', 'Genre: Trance / Suggestion Voice Oneesan / Older Girl / Older Sister Yuri / Girls Love   ', 'File size: 31.18MB   ']\n"
     ]
    }
   ],
   "source": [
    "tags = []\n",
    "for r in range(1, 13):  \n",
    "    th = driver.find_element(\"xpath\", \n",
    "        \"/html/body/div[3]/div[4]/div[1]/div/div[1]/div[2]/div[2]/table/tbody/tr[\"+str(r)+\"]/th[1]\").text\n",
    "    value = driver.find_element(\"xpath\", \n",
    "        \"/html/body/div[3]/div[4]/div[1]/div/div[1]/div[2]/div[2]/table/tbody/tr[\"+str(r)+\"]/td[1]\").text\n",
    "    tags.append(str(th+\": \"+value+\"   \"))\n",
    "print(tags)\n"
   ]
  },
  {
   "cell_type": "code",
   "execution_count": 7,
   "metadata": {},
   "outputs": [],
   "source": [
    "f = open (\"RJtest.txt\",'a',encoding=\"utf-8\")\n",
    "for i in tags:\n",
    "    f.write(i+\"\\n\")\n",
    "\n",
    "f.close()\n",
    "driver.quit()"
   ]
  }
 ],
 "metadata": {
  "kernelspec": {
   "display_name": ".venv",
   "language": "python",
   "name": "python3"
  },
  "language_info": {
   "codemirror_mode": {
    "name": "ipython",
    "version": 3
   },
   "file_extension": ".py",
   "mimetype": "text/x-python",
   "name": "python",
   "nbconvert_exporter": "python",
   "pygments_lexer": "ipython3",
   "version": "3.11.9"
  }
 },
 "nbformat": 4,
 "nbformat_minor": 2
}
